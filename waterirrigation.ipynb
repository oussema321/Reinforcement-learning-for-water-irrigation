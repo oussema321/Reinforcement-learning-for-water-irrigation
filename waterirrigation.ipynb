{
 "cells": [
  {
   "cell_type": "markdown",
   "metadata": {
    "id": "uuSa4lVjafvn"
   },
   "source": [
    "## **Instalation**"
   ]
  },
  {
   "cell_type": "code",
   "execution_count": null,
   "metadata": {
    "colab": {
     "base_uri": "https://localhost:8080/",
     "height": 1000
    },
    "id": "7-Wtaf88UgGr",
    "outputId": "b3f81b8a-2dd2-4d47-f51a-36f96fafa345"
   },
   "outputs": [
    {
     "name": "stdout",
     "output_type": "stream",
     "text": [
      "Looking in indexes: https://pypi.org/simple, https://us-python.pkg.dev/colab-wheels/public/simple/\n",
      "Collecting tensorflow==2.3.0\n",
      "  Downloading tensorflow-2.3.0-cp37-cp37m-manylinux2010_x86_64.whl (320.4 MB)\n",
      "\u001b[K     |████████████████████████████████| 320.4 MB 45 kB/s \n",
      "\u001b[?25hCollecting numpy<1.19.0,>=1.16.0\n",
      "  Downloading numpy-1.18.5-cp37-cp37m-manylinux1_x86_64.whl (20.1 MB)\n",
      "\u001b[K     |████████████████████████████████| 20.1 MB 9.2 MB/s \n",
      "\u001b[?25hRequirement already satisfied: grpcio>=1.8.6 in /usr/local/lib/python3.7/dist-packages (from tensorflow==2.3.0) (1.46.3)\n",
      "Collecting gast==0.3.3\n",
      "  Downloading gast-0.3.3-py2.py3-none-any.whl (9.7 kB)\n",
      "Requirement already satisfied: absl-py>=0.7.0 in /usr/local/lib/python3.7/dist-packages (from tensorflow==2.3.0) (1.1.0)\n",
      "Requirement already satisfied: astunparse==1.6.3 in /usr/local/lib/python3.7/dist-packages (from tensorflow==2.3.0) (1.6.3)\n",
      "Requirement already satisfied: scipy==1.4.1 in /usr/local/lib/python3.7/dist-packages (from tensorflow==2.3.0) (1.4.1)\n",
      "Requirement already satisfied: six>=1.12.0 in /usr/local/lib/python3.7/dist-packages (from tensorflow==2.3.0) (1.15.0)\n",
      "Requirement already satisfied: wrapt>=1.11.1 in /usr/local/lib/python3.7/dist-packages (from tensorflow==2.3.0) (1.14.1)\n",
      "Requirement already satisfied: keras-preprocessing<1.2,>=1.1.1 in /usr/local/lib/python3.7/dist-packages (from tensorflow==2.3.0) (1.1.2)\n",
      "Collecting tensorflow-estimator<2.4.0,>=2.3.0\n",
      "  Downloading tensorflow_estimator-2.3.0-py2.py3-none-any.whl (459 kB)\n",
      "\u001b[K     |████████████████████████████████| 459 kB 59.0 MB/s \n",
      "\u001b[?25hRequirement already satisfied: google-pasta>=0.1.8 in /usr/local/lib/python3.7/dist-packages (from tensorflow==2.3.0) (0.2.0)\n",
      "Requirement already satisfied: tensorboard<3,>=2.3.0 in /usr/local/lib/python3.7/dist-packages (from tensorflow==2.3.0) (2.8.0)\n",
      "Requirement already satisfied: opt-einsum>=2.3.2 in /usr/local/lib/python3.7/dist-packages (from tensorflow==2.3.0) (3.3.0)\n",
      "Collecting h5py<2.11.0,>=2.10.0\n",
      "  Downloading h5py-2.10.0-cp37-cp37m-manylinux1_x86_64.whl (2.9 MB)\n",
      "\u001b[K     |████████████████████████████████| 2.9 MB 35.9 MB/s \n",
      "\u001b[?25hRequirement already satisfied: wheel>=0.26 in /usr/local/lib/python3.7/dist-packages (from tensorflow==2.3.0) (0.37.1)\n",
      "Requirement already satisfied: protobuf>=3.9.2 in /usr/local/lib/python3.7/dist-packages (from tensorflow==2.3.0) (3.17.3)\n",
      "Requirement already satisfied: termcolor>=1.1.0 in /usr/local/lib/python3.7/dist-packages (from tensorflow==2.3.0) (1.1.0)\n",
      "Requirement already satisfied: google-auth-oauthlib<0.5,>=0.4.1 in /usr/local/lib/python3.7/dist-packages (from tensorboard<3,>=2.3.0->tensorflow==2.3.0) (0.4.6)\n",
      "Requirement already satisfied: setuptools>=41.0.0 in /usr/local/lib/python3.7/dist-packages (from tensorboard<3,>=2.3.0->tensorflow==2.3.0) (57.4.0)\n",
      "Requirement already satisfied: tensorboard-plugin-wit>=1.6.0 in /usr/local/lib/python3.7/dist-packages (from tensorboard<3,>=2.3.0->tensorflow==2.3.0) (1.8.1)\n",
      "Requirement already satisfied: markdown>=2.6.8 in /usr/local/lib/python3.7/dist-packages (from tensorboard<3,>=2.3.0->tensorflow==2.3.0) (3.3.7)\n",
      "Requirement already satisfied: google-auth<3,>=1.6.3 in /usr/local/lib/python3.7/dist-packages (from tensorboard<3,>=2.3.0->tensorflow==2.3.0) (1.35.0)\n",
      "Requirement already satisfied: tensorboard-data-server<0.7.0,>=0.6.0 in /usr/local/lib/python3.7/dist-packages (from tensorboard<3,>=2.3.0->tensorflow==2.3.0) (0.6.1)\n",
      "Requirement already satisfied: werkzeug>=0.11.15 in /usr/local/lib/python3.7/dist-packages (from tensorboard<3,>=2.3.0->tensorflow==2.3.0) (1.0.1)\n",
      "Requirement already satisfied: requests<3,>=2.21.0 in /usr/local/lib/python3.7/dist-packages (from tensorboard<3,>=2.3.0->tensorflow==2.3.0) (2.23.0)\n",
      "Requirement already satisfied: rsa<5,>=3.1.4 in /usr/local/lib/python3.7/dist-packages (from google-auth<3,>=1.6.3->tensorboard<3,>=2.3.0->tensorflow==2.3.0) (4.8)\n",
      "Requirement already satisfied: pyasn1-modules>=0.2.1 in /usr/local/lib/python3.7/dist-packages (from google-auth<3,>=1.6.3->tensorboard<3,>=2.3.0->tensorflow==2.3.0) (0.2.8)\n",
      "Requirement already satisfied: cachetools<5.0,>=2.0.0 in /usr/local/lib/python3.7/dist-packages (from google-auth<3,>=1.6.3->tensorboard<3,>=2.3.0->tensorflow==2.3.0) (4.2.4)\n",
      "Requirement already satisfied: requests-oauthlib>=0.7.0 in /usr/local/lib/python3.7/dist-packages (from google-auth-oauthlib<0.5,>=0.4.1->tensorboard<3,>=2.3.0->tensorflow==2.3.0) (1.3.1)\n",
      "Requirement already satisfied: importlib-metadata>=4.4 in /usr/local/lib/python3.7/dist-packages (from markdown>=2.6.8->tensorboard<3,>=2.3.0->tensorflow==2.3.0) (4.11.4)\n",
      "Requirement already satisfied: typing-extensions>=3.6.4 in /usr/local/lib/python3.7/dist-packages (from importlib-metadata>=4.4->markdown>=2.6.8->tensorboard<3,>=2.3.0->tensorflow==2.3.0) (4.1.1)\n",
      "Requirement already satisfied: zipp>=0.5 in /usr/local/lib/python3.7/dist-packages (from importlib-metadata>=4.4->markdown>=2.6.8->tensorboard<3,>=2.3.0->tensorflow==2.3.0) (3.8.0)\n",
      "Requirement already satisfied: pyasn1<0.5.0,>=0.4.6 in /usr/local/lib/python3.7/dist-packages (from pyasn1-modules>=0.2.1->google-auth<3,>=1.6.3->tensorboard<3,>=2.3.0->tensorflow==2.3.0) (0.4.8)\n",
      "Requirement already satisfied: certifi>=2017.4.17 in /usr/local/lib/python3.7/dist-packages (from requests<3,>=2.21.0->tensorboard<3,>=2.3.0->tensorflow==2.3.0) (2022.6.15)\n",
      "Requirement already satisfied: chardet<4,>=3.0.2 in /usr/local/lib/python3.7/dist-packages (from requests<3,>=2.21.0->tensorboard<3,>=2.3.0->tensorflow==2.3.0) (3.0.4)\n",
      "Requirement already satisfied: urllib3!=1.25.0,!=1.25.1,<1.26,>=1.21.1 in /usr/local/lib/python3.7/dist-packages (from requests<3,>=2.21.0->tensorboard<3,>=2.3.0->tensorflow==2.3.0) (1.24.3)\n",
      "Requirement already satisfied: idna<3,>=2.5 in /usr/local/lib/python3.7/dist-packages (from requests<3,>=2.21.0->tensorboard<3,>=2.3.0->tensorflow==2.3.0) (2.10)\n",
      "Requirement already satisfied: oauthlib>=3.0.0 in /usr/local/lib/python3.7/dist-packages (from requests-oauthlib>=0.7.0->google-auth-oauthlib<0.5,>=0.4.1->tensorboard<3,>=2.3.0->tensorflow==2.3.0) (3.2.0)\n",
      "Installing collected packages: numpy, tensorflow-estimator, h5py, gast, tensorflow\n",
      "  Attempting uninstall: numpy\n",
      "    Found existing installation: numpy 1.21.6\n",
      "    Uninstalling numpy-1.21.6:\n",
      "      Successfully uninstalled numpy-1.21.6\n",
      "  Attempting uninstall: tensorflow-estimator\n",
      "    Found existing installation: tensorflow-estimator 2.8.0\n",
      "    Uninstalling tensorflow-estimator-2.8.0:\n",
      "      Successfully uninstalled tensorflow-estimator-2.8.0\n",
      "  Attempting uninstall: h5py\n",
      "    Found existing installation: h5py 3.1.0\n",
      "    Uninstalling h5py-3.1.0:\n",
      "      Successfully uninstalled h5py-3.1.0\n",
      "  Attempting uninstall: gast\n",
      "    Found existing installation: gast 0.5.3\n",
      "    Uninstalling gast-0.5.3:\n",
      "      Successfully uninstalled gast-0.5.3\n",
      "  Attempting uninstall: tensorflow\n",
      "    Found existing installation: tensorflow 2.8.2+zzzcolab20220527125636\n",
      "    Uninstalling tensorflow-2.8.2+zzzcolab20220527125636:\n",
      "      Successfully uninstalled tensorflow-2.8.2+zzzcolab20220527125636\n",
      "\u001b[31mERROR: pip's dependency resolver does not currently take into account all the packages that are installed. This behaviour is the source of the following dependency conflicts.\n",
      "xarray-einstats 0.2.2 requires numpy>=1.21, but you have numpy 1.18.5 which is incompatible.\n",
      "tables 3.7.0 requires numpy>=1.19.0, but you have numpy 1.18.5 which is incompatible.\n",
      "jaxlib 0.3.7+cuda11.cudnn805 requires numpy>=1.19, but you have numpy 1.18.5 which is incompatible.\n",
      "jax 0.3.8 requires numpy>=1.19, but you have numpy 1.18.5 which is incompatible.\n",
      "datascience 0.10.6 requires folium==0.2.1, but you have folium 0.8.3 which is incompatible.\n",
      "albumentations 0.1.12 requires imgaug<0.2.7,>=0.2.5, but you have imgaug 0.2.9 which is incompatible.\u001b[0m\n",
      "Successfully installed gast-0.3.3 h5py-2.10.0 numpy-1.18.5 tensorflow-2.3.0 tensorflow-estimator-2.3.0\n"
     ]
    },
    {
     "data": {
      "application/vnd.colab-display-data+json": {
       "pip_warning": {
        "packages": [
         "numpy"
        ]
       }
      }
     },
     "metadata": {},
     "output_type": "display_data"
    },
    {
     "name": "stdout",
     "output_type": "stream",
     "text": [
      "Looking in indexes: https://pypi.org/simple, https://us-python.pkg.dev/colab-wheels/public/simple/\n",
      "Requirement already satisfied: gym in /usr/local/lib/python3.7/dist-packages (0.17.3)\n",
      "Requirement already satisfied: pyglet<=1.5.0,>=1.4.0 in /usr/local/lib/python3.7/dist-packages (from gym) (1.5.0)\n",
      "Requirement already satisfied: cloudpickle<1.7.0,>=1.2.0 in /usr/local/lib/python3.7/dist-packages (from gym) (1.3.0)\n",
      "Requirement already satisfied: numpy>=1.10.4 in /usr/local/lib/python3.7/dist-packages (from gym) (1.18.5)\n",
      "Requirement already satisfied: scipy in /usr/local/lib/python3.7/dist-packages (from gym) (1.4.1)\n",
      "Requirement already satisfied: future in /usr/local/lib/python3.7/dist-packages (from pyglet<=1.5.0,>=1.4.0->gym) (0.16.0)\n",
      "Looking in indexes: https://pypi.org/simple, https://us-python.pkg.dev/colab-wheels/public/simple/\n",
      "Requirement already satisfied: keras in /usr/local/lib/python3.7/dist-packages (2.8.0)\n",
      "Looking in indexes: https://pypi.org/simple, https://us-python.pkg.dev/colab-wheels/public/simple/\n",
      "Collecting keras-rl2\n",
      "  Downloading keras_rl2-1.0.5-py3-none-any.whl (52 kB)\n",
      "\u001b[K     |████████████████████████████████| 52 kB 668 kB/s \n",
      "\u001b[?25hRequirement already satisfied: tensorflow in /usr/local/lib/python3.7/dist-packages (from keras-rl2) (2.3.0)\n",
      "Requirement already satisfied: h5py<2.11.0,>=2.10.0 in /usr/local/lib/python3.7/dist-packages (from tensorflow->keras-rl2) (2.10.0)\n",
      "Requirement already satisfied: termcolor>=1.1.0 in /usr/local/lib/python3.7/dist-packages (from tensorflow->keras-rl2) (1.1.0)\n",
      "Requirement already satisfied: tensorflow-estimator<2.4.0,>=2.3.0 in /usr/local/lib/python3.7/dist-packages (from tensorflow->keras-rl2) (2.3.0)\n",
      "Requirement already satisfied: gast==0.3.3 in /usr/local/lib/python3.7/dist-packages (from tensorflow->keras-rl2) (0.3.3)\n",
      "Requirement already satisfied: grpcio>=1.8.6 in /usr/local/lib/python3.7/dist-packages (from tensorflow->keras-rl2) (1.46.3)\n",
      "Requirement already satisfied: google-pasta>=0.1.8 in /usr/local/lib/python3.7/dist-packages (from tensorflow->keras-rl2) (0.2.0)\n",
      "Requirement already satisfied: opt-einsum>=2.3.2 in /usr/local/lib/python3.7/dist-packages (from tensorflow->keras-rl2) (3.3.0)\n",
      "Requirement already satisfied: scipy==1.4.1 in /usr/local/lib/python3.7/dist-packages (from tensorflow->keras-rl2) (1.4.1)\n",
      "Requirement already satisfied: astunparse==1.6.3 in /usr/local/lib/python3.7/dist-packages (from tensorflow->keras-rl2) (1.6.3)\n",
      "Requirement already satisfied: absl-py>=0.7.0 in /usr/local/lib/python3.7/dist-packages (from tensorflow->keras-rl2) (1.1.0)\n",
      "Requirement already satisfied: tensorboard<3,>=2.3.0 in /usr/local/lib/python3.7/dist-packages (from tensorflow->keras-rl2) (2.8.0)\n",
      "Requirement already satisfied: numpy<1.19.0,>=1.16.0 in /usr/local/lib/python3.7/dist-packages (from tensorflow->keras-rl2) (1.18.5)\n",
      "Requirement already satisfied: wrapt>=1.11.1 in /usr/local/lib/python3.7/dist-packages (from tensorflow->keras-rl2) (1.14.1)\n",
      "Requirement already satisfied: wheel>=0.26 in /usr/local/lib/python3.7/dist-packages (from tensorflow->keras-rl2) (0.37.1)\n",
      "Requirement already satisfied: keras-preprocessing<1.2,>=1.1.1 in /usr/local/lib/python3.7/dist-packages (from tensorflow->keras-rl2) (1.1.2)\n",
      "Requirement already satisfied: six>=1.12.0 in /usr/local/lib/python3.7/dist-packages (from tensorflow->keras-rl2) (1.15.0)\n",
      "Requirement already satisfied: protobuf>=3.9.2 in /usr/local/lib/python3.7/dist-packages (from tensorflow->keras-rl2) (3.17.3)\n",
      "Requirement already satisfied: tensorboard-plugin-wit>=1.6.0 in /usr/local/lib/python3.7/dist-packages (from tensorboard<3,>=2.3.0->tensorflow->keras-rl2) (1.8.1)\n",
      "Requirement already satisfied: google-auth<3,>=1.6.3 in /usr/local/lib/python3.7/dist-packages (from tensorboard<3,>=2.3.0->tensorflow->keras-rl2) (1.35.0)\n",
      "Requirement already satisfied: google-auth-oauthlib<0.5,>=0.4.1 in /usr/local/lib/python3.7/dist-packages (from tensorboard<3,>=2.3.0->tensorflow->keras-rl2) (0.4.6)\n",
      "Requirement already satisfied: requests<3,>=2.21.0 in /usr/local/lib/python3.7/dist-packages (from tensorboard<3,>=2.3.0->tensorflow->keras-rl2) (2.23.0)\n",
      "Requirement already satisfied: tensorboard-data-server<0.7.0,>=0.6.0 in /usr/local/lib/python3.7/dist-packages (from tensorboard<3,>=2.3.0->tensorflow->keras-rl2) (0.6.1)\n",
      "Requirement already satisfied: werkzeug>=0.11.15 in /usr/local/lib/python3.7/dist-packages (from tensorboard<3,>=2.3.0->tensorflow->keras-rl2) (1.0.1)\n",
      "Requirement already satisfied: markdown>=2.6.8 in /usr/local/lib/python3.7/dist-packages (from tensorboard<3,>=2.3.0->tensorflow->keras-rl2) (3.3.7)\n",
      "Requirement already satisfied: setuptools>=41.0.0 in /usr/local/lib/python3.7/dist-packages (from tensorboard<3,>=2.3.0->tensorflow->keras-rl2) (57.4.0)\n",
      "Requirement already satisfied: rsa<5,>=3.1.4 in /usr/local/lib/python3.7/dist-packages (from google-auth<3,>=1.6.3->tensorboard<3,>=2.3.0->tensorflow->keras-rl2) (4.8)\n",
      "Requirement already satisfied: pyasn1-modules>=0.2.1 in /usr/local/lib/python3.7/dist-packages (from google-auth<3,>=1.6.3->tensorboard<3,>=2.3.0->tensorflow->keras-rl2) (0.2.8)\n",
      "Requirement already satisfied: cachetools<5.0,>=2.0.0 in /usr/local/lib/python3.7/dist-packages (from google-auth<3,>=1.6.3->tensorboard<3,>=2.3.0->tensorflow->keras-rl2) (4.2.4)\n",
      "Requirement already satisfied: requests-oauthlib>=0.7.0 in /usr/local/lib/python3.7/dist-packages (from google-auth-oauthlib<0.5,>=0.4.1->tensorboard<3,>=2.3.0->tensorflow->keras-rl2) (1.3.1)\n",
      "Requirement already satisfied: importlib-metadata>=4.4 in /usr/local/lib/python3.7/dist-packages (from markdown>=2.6.8->tensorboard<3,>=2.3.0->tensorflow->keras-rl2) (4.11.4)\n",
      "Requirement already satisfied: zipp>=0.5 in /usr/local/lib/python3.7/dist-packages (from importlib-metadata>=4.4->markdown>=2.6.8->tensorboard<3,>=2.3.0->tensorflow->keras-rl2) (3.8.0)\n",
      "Requirement already satisfied: typing-extensions>=3.6.4 in /usr/local/lib/python3.7/dist-packages (from importlib-metadata>=4.4->markdown>=2.6.8->tensorboard<3,>=2.3.0->tensorflow->keras-rl2) (4.1.1)\n",
      "Requirement already satisfied: pyasn1<0.5.0,>=0.4.6 in /usr/local/lib/python3.7/dist-packages (from pyasn1-modules>=0.2.1->google-auth<3,>=1.6.3->tensorboard<3,>=2.3.0->tensorflow->keras-rl2) (0.4.8)\n",
      "Requirement already satisfied: urllib3!=1.25.0,!=1.25.1,<1.26,>=1.21.1 in /usr/local/lib/python3.7/dist-packages (from requests<3,>=2.21.0->tensorboard<3,>=2.3.0->tensorflow->keras-rl2) (1.24.3)\n",
      "Requirement already satisfied: chardet<4,>=3.0.2 in /usr/local/lib/python3.7/dist-packages (from requests<3,>=2.21.0->tensorboard<3,>=2.3.0->tensorflow->keras-rl2) (3.0.4)\n",
      "Requirement already satisfied: certifi>=2017.4.17 in /usr/local/lib/python3.7/dist-packages (from requests<3,>=2.21.0->tensorboard<3,>=2.3.0->tensorflow->keras-rl2) (2022.6.15)\n",
      "Requirement already satisfied: idna<3,>=2.5 in /usr/local/lib/python3.7/dist-packages (from requests<3,>=2.21.0->tensorboard<3,>=2.3.0->tensorflow->keras-rl2) (2.10)\n",
      "Requirement already satisfied: oauthlib>=3.0.0 in /usr/local/lib/python3.7/dist-packages (from requests-oauthlib>=0.7.0->google-auth-oauthlib<0.5,>=0.4.1->tensorboard<3,>=2.3.0->tensorflow->keras-rl2) (3.2.0)\n",
      "Installing collected packages: keras-rl2\n",
      "Successfully installed keras-rl2-1.0.5\n"
     ]
    }
   ],
   "source": [
    "# !pip install tensorflow==2.3.0\n",
    "# !pip install gym\n",
    "# !pip install keras\n",
    "# !pip install keras-rl2"
   ]
  },
  {
   "cell_type": "markdown",
   "metadata": {
    "id": "p6h6lcApaZgG"
   },
   "source": [
    "## **importation**"
   ]
  },
  {
   "cell_type": "code",
   "execution_count": 1,
   "metadata": {
    "id": "40M0-I3DuzD_"
   },
   "outputs": [
    {
     "name": "stdout",
     "output_type": "stream",
     "text": [
      "number of row =   296\n"
     ]
    },
    {
     "name": "stderr",
     "output_type": "stream",
     "text": [
      "C:\\Users\\USER\\anaconda3\\lib\\site-packages\\xlsxwriter\\workbook.py:338: UserWarning: Calling close() on already closed file.\n",
      "  warn(\"Calling close() on already closed file.\")\n"
     ]
    },
    {
     "name": "stdout",
     "output_type": "stream",
     "text": [
      "upload sucessful\n"
     ]
    }
   ],
   "source": [
    "from gym import Env\n",
    "from gym.spaces import Discrete, Box\n",
    "import numpy as np\n",
    "import random\n",
    "import matplotlib\n",
    "import matplotlib.style\n",
    "import pandas as pd\n",
    "from script import Data\n",
    "from random import randint\n",
    "import seaborn as sns\n",
    "sns.set(color_codes=True)"
   ]
  },
  {
   "cell_type": "markdown",
   "metadata": {
    "id": "Ki3qb2OAaC2P"
   },
   "source": [
    "## **Import Data**"
   ]
  },
  {
   "cell_type": "code",
   "execution_count": 2,
   "metadata": {
    "colab": {
     "base_uri": "https://localhost:8080/",
     "height": 424
    },
    "id": "hA8sc6drFCNi",
    "outputId": "247cfeee-307a-4b87-bb2d-c1d6d744b290"
   },
   "outputs": [
    {
     "data": {
      "text/html": [
       "<div>\n",
       "<style scoped>\n",
       "    .dataframe tbody tr th:only-of-type {\n",
       "        vertical-align: middle;\n",
       "    }\n",
       "\n",
       "    .dataframe tbody tr th {\n",
       "        vertical-align: top;\n",
       "    }\n",
       "\n",
       "    .dataframe thead th {\n",
       "        text-align: right;\n",
       "    }\n",
       "</style>\n",
       "<table border=\"1\" class=\"dataframe\">\n",
       "  <thead>\n",
       "    <tr style=\"text-align: right;\">\n",
       "      <th></th>\n",
       "      <th>Date</th>\n",
       "      <th>Sap</th>\n",
       "      <th>Air_Humidity</th>\n",
       "      <th>Air_Temperature</th>\n",
       "      <th>Soil_Humidity</th>\n",
       "      <th>Soil_Temperature</th>\n",
       "    </tr>\n",
       "  </thead>\n",
       "  <tbody>\n",
       "    <tr>\n",
       "      <th>0</th>\n",
       "      <td>15.06.22 14:00:24</td>\n",
       "      <td>NaN</td>\n",
       "      <td>NaN</td>\n",
       "      <td>NaN</td>\n",
       "      <td>NaN</td>\n",
       "      <td>NaN</td>\n",
       "    </tr>\n",
       "    <tr>\n",
       "      <th>1</th>\n",
       "      <td>15.06.22 15:01:18</td>\n",
       "      <td>NaN</td>\n",
       "      <td>NaN</td>\n",
       "      <td>NaN</td>\n",
       "      <td>NaN</td>\n",
       "      <td>NaN</td>\n",
       "    </tr>\n",
       "    <tr>\n",
       "      <th>2</th>\n",
       "      <td>15.06.22 16:00:24</td>\n",
       "      <td>NaN</td>\n",
       "      <td>NaN</td>\n",
       "      <td>NaN</td>\n",
       "      <td>NaN</td>\n",
       "      <td>NaN</td>\n",
       "    </tr>\n",
       "    <tr>\n",
       "      <th>3</th>\n",
       "      <td>15.06.22 17:00:26</td>\n",
       "      <td>1.947076</td>\n",
       "      <td>46.0</td>\n",
       "      <td>25.4</td>\n",
       "      <td>53.0</td>\n",
       "      <td>25.1</td>\n",
       "    </tr>\n",
       "    <tr>\n",
       "      <th>4</th>\n",
       "      <td>15.06.22 18:00:24</td>\n",
       "      <td>7.308471</td>\n",
       "      <td>57.0</td>\n",
       "      <td>25.6</td>\n",
       "      <td>54.0</td>\n",
       "      <td>25.2</td>\n",
       "    </tr>\n",
       "    <tr>\n",
       "      <th>...</th>\n",
       "      <td>...</td>\n",
       "      <td>...</td>\n",
       "      <td>...</td>\n",
       "      <td>...</td>\n",
       "      <td>...</td>\n",
       "      <td>...</td>\n",
       "    </tr>\n",
       "    <tr>\n",
       "      <th>291</th>\n",
       "      <td>01.07.22 06:00:26</td>\n",
       "      <td>-0.743360</td>\n",
       "      <td>59.0</td>\n",
       "      <td>28.7</td>\n",
       "      <td>64.0</td>\n",
       "      <td>26.7</td>\n",
       "    </tr>\n",
       "    <tr>\n",
       "      <th>292</th>\n",
       "      <td>01.07.22 07:00:26</td>\n",
       "      <td>-12.240813</td>\n",
       "      <td>62.0</td>\n",
       "      <td>27.1</td>\n",
       "      <td>62.0</td>\n",
       "      <td>27.1</td>\n",
       "    </tr>\n",
       "    <tr>\n",
       "      <th>293</th>\n",
       "      <td>01.07.22 08:00:26</td>\n",
       "      <td>1.363808</td>\n",
       "      <td>63.0</td>\n",
       "      <td>28.8</td>\n",
       "      <td>65.0</td>\n",
       "      <td>28.7</td>\n",
       "    </tr>\n",
       "    <tr>\n",
       "      <th>294</th>\n",
       "      <td>01.07.22 09:00:26</td>\n",
       "      <td>-2.238167</td>\n",
       "      <td>62.0</td>\n",
       "      <td>31.7</td>\n",
       "      <td>61.0</td>\n",
       "      <td>32.1</td>\n",
       "    </tr>\n",
       "    <tr>\n",
       "      <th>295</th>\n",
       "      <td>01.07.22 10:00:26</td>\n",
       "      <td>11.661772</td>\n",
       "      <td>54.0</td>\n",
       "      <td>33.6</td>\n",
       "      <td>50.0</td>\n",
       "      <td>34.3</td>\n",
       "    </tr>\n",
       "  </tbody>\n",
       "</table>\n",
       "<p>296 rows × 6 columns</p>\n",
       "</div>"
      ],
      "text/plain": [
       "                  Date        Sap  Air_Humidity  Air_Temperature  \\\n",
       "0    15.06.22 14:00:24        NaN           NaN              NaN   \n",
       "1    15.06.22 15:01:18        NaN           NaN              NaN   \n",
       "2    15.06.22 16:00:24        NaN           NaN              NaN   \n",
       "3    15.06.22 17:00:26   1.947076          46.0             25.4   \n",
       "4    15.06.22 18:00:24   7.308471          57.0             25.6   \n",
       "..                 ...        ...           ...              ...   \n",
       "291  01.07.22 06:00:26  -0.743360          59.0             28.7   \n",
       "292  01.07.22 07:00:26 -12.240813          62.0             27.1   \n",
       "293  01.07.22 08:00:26   1.363808          63.0             28.8   \n",
       "294  01.07.22 09:00:26  -2.238167          62.0             31.7   \n",
       "295  01.07.22 10:00:26  11.661772          54.0             33.6   \n",
       "\n",
       "     Soil_Humidity  Soil_Temperature  \n",
       "0              NaN               NaN  \n",
       "1              NaN               NaN  \n",
       "2              NaN               NaN  \n",
       "3             53.0              25.1  \n",
       "4             54.0              25.2  \n",
       "..             ...               ...  \n",
       "291           64.0              26.7  \n",
       "292           62.0              27.1  \n",
       "293           65.0              28.7  \n",
       "294           61.0              32.1  \n",
       "295           50.0              34.3  \n",
       "\n",
       "[296 rows x 6 columns]"
      ]
     },
     "execution_count": 2,
     "metadata": {},
     "output_type": "execute_result"
    }
   ],
   "source": [
    "df=pd.read_excel(\"data.xlsx\")\n",
    "df"
   ]
  },
  {
   "cell_type": "code",
   "execution_count": 3,
   "metadata": {
    "colab": {
     "base_uri": "https://localhost:8080/",
     "height": 206
    },
    "id": "SuSN7fr8JanF",
    "outputId": "29772b9c-3f9b-42c9-8bff-0e7376eafbff"
   },
   "outputs": [
    {
     "data": {
      "text/html": [
       "<div>\n",
       "<style scoped>\n",
       "    .dataframe tbody tr th:only-of-type {\n",
       "        vertical-align: middle;\n",
       "    }\n",
       "\n",
       "    .dataframe tbody tr th {\n",
       "        vertical-align: top;\n",
       "    }\n",
       "\n",
       "    .dataframe thead th {\n",
       "        text-align: right;\n",
       "    }\n",
       "</style>\n",
       "<table border=\"1\" class=\"dataframe\">\n",
       "  <thead>\n",
       "    <tr style=\"text-align: right;\">\n",
       "      <th></th>\n",
       "      <th>Date</th>\n",
       "      <th>Sap</th>\n",
       "      <th>Air_Humidity</th>\n",
       "      <th>Air_Temperature</th>\n",
       "      <th>Soil_Humidity</th>\n",
       "      <th>Soil_Temperature</th>\n",
       "    </tr>\n",
       "  </thead>\n",
       "  <tbody>\n",
       "    <tr>\n",
       "      <th>0</th>\n",
       "      <td>15.06.22 14:00:24</td>\n",
       "      <td>NaN</td>\n",
       "      <td>NaN</td>\n",
       "      <td>NaN</td>\n",
       "      <td>NaN</td>\n",
       "      <td>NaN</td>\n",
       "    </tr>\n",
       "    <tr>\n",
       "      <th>1</th>\n",
       "      <td>15.06.22 15:01:18</td>\n",
       "      <td>NaN</td>\n",
       "      <td>NaN</td>\n",
       "      <td>NaN</td>\n",
       "      <td>NaN</td>\n",
       "      <td>NaN</td>\n",
       "    </tr>\n",
       "    <tr>\n",
       "      <th>2</th>\n",
       "      <td>15.06.22 16:00:24</td>\n",
       "      <td>NaN</td>\n",
       "      <td>NaN</td>\n",
       "      <td>NaN</td>\n",
       "      <td>NaN</td>\n",
       "      <td>NaN</td>\n",
       "    </tr>\n",
       "    <tr>\n",
       "      <th>3</th>\n",
       "      <td>15.06.22 17:00:26</td>\n",
       "      <td>1.947076</td>\n",
       "      <td>46.0</td>\n",
       "      <td>25.4</td>\n",
       "      <td>53.0</td>\n",
       "      <td>25.1</td>\n",
       "    </tr>\n",
       "    <tr>\n",
       "      <th>4</th>\n",
       "      <td>15.06.22 18:00:24</td>\n",
       "      <td>7.308471</td>\n",
       "      <td>57.0</td>\n",
       "      <td>25.6</td>\n",
       "      <td>54.0</td>\n",
       "      <td>25.2</td>\n",
       "    </tr>\n",
       "  </tbody>\n",
       "</table>\n",
       "</div>"
      ],
      "text/plain": [
       "                Date       Sap  Air_Humidity  Air_Temperature  Soil_Humidity  \\\n",
       "0  15.06.22 14:00:24       NaN           NaN              NaN            NaN   \n",
       "1  15.06.22 15:01:18       NaN           NaN              NaN            NaN   \n",
       "2  15.06.22 16:00:24       NaN           NaN              NaN            NaN   \n",
       "3  15.06.22 17:00:26  1.947076          46.0             25.4           53.0   \n",
       "4  15.06.22 18:00:24  7.308471          57.0             25.6           54.0   \n",
       "\n",
       "   Soil_Temperature  \n",
       "0               NaN  \n",
       "1               NaN  \n",
       "2               NaN  \n",
       "3              25.1  \n",
       "4              25.2  "
      ]
     },
     "execution_count": 3,
     "metadata": {},
     "output_type": "execute_result"
    }
   ],
   "source": [
    "df.head()"
   ]
  },
  {
   "cell_type": "code",
   "execution_count": 4,
   "metadata": {
    "colab": {
     "base_uri": "https://localhost:8080/"
    },
    "id": "T9fKWUtSjlPQ",
    "outputId": "d8417159-c815-4ed8-8055-6cefe5f483a3"
   },
   "outputs": [
    {
     "name": "stdout",
     "output_type": "stream",
     "text": [
      "(296, 6)\n",
      "296\n",
      "6\n"
     ]
    }
   ],
   "source": [
    "print(df.shape)\n",
    "print(df.shape[0])\n",
    "print(df.shape[1])"
   ]
  },
  {
   "cell_type": "code",
   "execution_count": 5,
   "metadata": {
    "colab": {
     "base_uri": "https://localhost:8080/"
    },
    "id": "DG1LC_-5c5fT",
    "outputId": "f248afcc-3ec3-4e69-ca00-1f42976e0397",
    "scrolled": true
   },
   "outputs": [
    {
     "name": "stdout",
     "output_type": "stream",
     "text": [
      "<class 'pandas.core.frame.DataFrame'>\n",
      "RangeIndex: 296 entries, 0 to 295\n",
      "Data columns (total 6 columns):\n",
      " #   Column            Non-Null Count  Dtype  \n",
      "---  ------            --------------  -----  \n",
      " 0   Date              296 non-null    object \n",
      " 1   Sap               261 non-null    float64\n",
      " 2   Air_Humidity      261 non-null    float64\n",
      " 3   Air_Temperature   261 non-null    float64\n",
      " 4   Soil_Humidity     292 non-null    float64\n",
      " 5   Soil_Temperature  292 non-null    float64\n",
      "dtypes: float64(5), object(1)\n",
      "memory usage: 14.0+ KB\n"
     ]
    }
   ],
   "source": [
    "df.info()"
   ]
  },
  {
   "cell_type": "code",
   "execution_count": 6,
   "metadata": {},
   "outputs": [
    {
     "name": "stderr",
     "output_type": "stream",
     "text": [
      "C:\\Users\\USER\\anaconda3\\lib\\site-packages\\seaborn\\distributions.py:2619: FutureWarning: `distplot` is a deprecated function and will be removed in a future version. Please adapt your code to use either `displot` (a figure-level function with similar flexibility) or `histplot` (an axes-level function for histograms).\n",
      "  warnings.warn(msg, FutureWarning)\n"
     ]
    },
    {
     "data": {
      "text/plain": [
       "<AxesSubplot:xlabel='Sap', ylabel='Density'>"
      ]
     },
     "execution_count": 6,
     "metadata": {},
     "output_type": "execute_result"
    },
    {
     "data": {
      "image/png": "[encoded data removed]",
      "text/plain": [
       "<Figure size 432x288 with 1 Axes>"
      ]
     },
     "metadata": {},
     "output_type": "display_data"
    }
   ],
   "source": [
    "sns.distplot(df['Sap'])"
   ]
  },
  {
   "cell_type": "code",
   "execution_count": 7,
   "metadata": {
    "scrolled": true
   },
   "outputs": [
    {
     "name": "stderr",
     "output_type": "stream",
     "text": [
      "C:\\Users\\USER\\anaconda3\\lib\\site-packages\\seaborn\\distributions.py:2619: FutureWarning: `distplot` is a deprecated function and will be removed in a future version. Please adapt your code to use either `displot` (a figure-level function with similar flexibility) or `histplot` (an axes-level function for histograms).\n",
      "  warnings.warn(msg, FutureWarning)\n"
     ]
    },
    {
     "data": {
      "text/plain": [
       "<AxesSubplot:xlabel='Air_Humidity', ylabel='Density'>"
      ]
     },
     "execution_count": 7,
     "metadata": {},
     "output_type": "execute_result"
    },
    {
     "data": {
      "image/png": "[encoded data removed]",
      "text/plain": [
       "<Figure size 432x288 with 1 Axes>"
      ]
     },
     "metadata": {},
     "output_type": "display_data"
    }
   ],
   "source": [
    "sns.distplot(df['Air_Humidity'])"
   ]
  },
  {
   "cell_type": "code",
   "execution_count": 8,
   "metadata": {
    "colab": {
     "base_uri": "https://localhost:8080/",
     "height": 357
    },
    "id": "3oTHBR3me6I-",
    "outputId": "179f99a4-f2ad-45a3-bbd7-de8be08093e2"
   },
   "outputs": [
    {
     "name": "stderr",
     "output_type": "stream",
     "text": [
      "C:\\Users\\USER\\anaconda3\\lib\\site-packages\\seaborn\\distributions.py:2619: FutureWarning: `distplot` is a deprecated function and will be removed in a future version. Please adapt your code to use either `displot` (a figure-level function with similar flexibility) or `histplot` (an axes-level function for histograms).\n",
      "  warnings.warn(msg, FutureWarning)\n"
     ]
    },
    {
     "data": {
      "text/plain": [
       "<AxesSubplot:xlabel='Air_Temperature', ylabel='Density'>"
      ]
     },
     "execution_count": 8,
     "metadata": {},
     "output_type": "execute_result"
    },
    {
     "data": {
      "image/png": "[encoded data removed]",
      "text/plain": [
       "<Figure size 432x288 with 1 Axes>"
      ]
     },
     "metadata": {},
     "output_type": "display_data"
    }
   ],
   "source": [
    "sns.distplot(df['Air_Temperature'])"
   ]
  },
  {
   "cell_type": "code",
   "execution_count": 9,
   "metadata": {},
   "outputs": [
    {
     "name": "stderr",
     "output_type": "stream",
     "text": [
      "C:\\Users\\USER\\anaconda3\\lib\\site-packages\\seaborn\\distributions.py:2619: FutureWarning: `distplot` is a deprecated function and will be removed in a future version. Please adapt your code to use either `displot` (a figure-level function with similar flexibility) or `histplot` (an axes-level function for histograms).\n",
      "  warnings.warn(msg, FutureWarning)\n"
     ]
    },
    {
     "data": {
      "text/plain": [
       "<AxesSubplot:xlabel='Soil_Humidity', ylabel='Density'>"
      ]
     },
     "execution_count": 9,
     "metadata": {},
     "output_type": "execute_result"
    },
    {
     "data": {
      "image/png": "[encoded data removed]",
      "text/plain": [
       "<Figure size 432x288 with 1 Axes>"
      ]
     },
     "metadata": {},
     "output_type": "display_data"
    }
   ],
   "source": [
    "sns.distplot(df['Soil_Humidity'])"
   ]
  },
  {
   "cell_type": "code",
   "execution_count": 10,
   "metadata": {},
   "outputs": [
    {
     "name": "stderr",
     "output_type": "stream",
     "text": [
      "C:\\Users\\USER\\anaconda3\\lib\\site-packages\\seaborn\\distributions.py:2619: FutureWarning: `distplot` is a deprecated function and will be removed in a future version. Please adapt your code to use either `displot` (a figure-level function with similar flexibility) or `histplot` (an axes-level function for histograms).\n",
      "  warnings.warn(msg, FutureWarning)\n"
     ]
    },
    {
     "data": {
      "text/plain": [
       "<AxesSubplot:xlabel='Soil_Temperature', ylabel='Density'>"
      ]
     },
     "execution_count": 10,
     "metadata": {},
     "output_type": "execute_result"
    },
    {
     "data": {
      "image/png": "[encoded data removed]",
      "text/plain": [
       "<Figure size 432x288 with 1 Axes>"
      ]
     },
     "metadata": {},
     "output_type": "display_data"
    }
   ],
   "source": [
    "sns.distplot(df['Soil_Temperature'])"
   ]
  },
  {
   "cell_type": "code",
   "execution_count": 11,
   "metadata": {
    "colab": {
     "base_uri": "https://localhost:8080/",
     "height": 357
    },
    "id": "xt_LgpAadRDv",
    "outputId": "5615066f-4270-4ea9-ada8-d80dc6163799"
   },
   "outputs": [
    {
     "name": "stderr",
     "output_type": "stream",
     "text": [
      "C:\\Users\\USER\\anaconda3\\lib\\site-packages\\seaborn\\_decorators.py:36: FutureWarning: Pass the following variables as keyword args: x, y. From version 0.12, the only valid positional argument will be `data`, and passing other arguments without an explicit keyword will result in an error or misinterpretation.\n",
      "  warnings.warn(\n"
     ]
    },
    {
     "data": {
      "text/plain": [
       "<AxesSubplot:xlabel='Air_Humidity', ylabel='Air_Temperature'>"
      ]
     },
     "execution_count": 11,
     "metadata": {},
     "output_type": "execute_result"
    },
    {
     "data": {
      "image/png": "[encoded data removed]",
      "text/plain": [
       "<Figure size 432x288 with 1 Axes>"
      ]
     },
     "metadata": {},
     "output_type": "display_data"
    }
   ],
   "source": [
    "sns.barplot(df['Air_Humidity'], df['Air_Temperature'])"
   ]
  },
  {
   "cell_type": "code",
   "execution_count": 12,
   "metadata": {},
   "outputs": [
    {
     "name": "stderr",
     "output_type": "stream",
     "text": [
      "C:\\Users\\USER\\anaconda3\\lib\\site-packages\\seaborn\\_decorators.py:36: FutureWarning: Pass the following variables as keyword args: x, y. From version 0.12, the only valid positional argument will be `data`, and passing other arguments without an explicit keyword will result in an error or misinterpretation.\n",
      "  warnings.warn(\n"
     ]
    },
    {
     "data": {
      "text/plain": [
       "<AxesSubplot:xlabel='Soil_Humidity', ylabel='Soil_Temperature'>"
      ]
     },
     "execution_count": 12,
     "metadata": {},
     "output_type": "execute_result"
    },
    {
     "data": {
      "image/png": "[encoded data removed]",
      "text/plain": [
       "<Figure size 432x288 with 1 Axes>"
      ]
     },
     "metadata": {},
     "output_type": "display_data"
    }
   ],
   "source": [
    "sns.barplot(df['Soil_Humidity'], df['Soil_Temperature'])"
   ]
  },
  {
   "cell_type": "code",
   "execution_count": 13,
   "metadata": {
    "colab": {
     "base_uri": "https://localhost:8080/",
     "height": 531
    },
    "id": "6aOv3N6Bd_LY",
    "outputId": "b5d41cb6-863d-4ce2-cbb3-423126b64821"
   },
   "outputs": [
    {
     "ename": "KeyError",
     "evalue": "'Temperature'",
     "output_type": "error",
     "traceback": [
      "\u001b[1;31m---------------------------------------------------------------------------\u001b[0m",
      "\u001b[1;31mKeyError\u001b[0m                                  Traceback (most recent call last)",
      "\u001b[1;32m~\\anaconda3\\lib\\site-packages\\pandas\\core\\indexes\\base.py\u001b[0m in \u001b[0;36mget_loc\u001b[1;34m(self, key, method, tolerance)\u001b[0m\n\u001b[0;32m   3360\u001b[0m             \u001b[1;32mtry\u001b[0m\u001b[1;33m:\u001b[0m\u001b[1;33m\u001b[0m\u001b[1;33m\u001b[0m\u001b[0m\n\u001b[1;32m-> 3361\u001b[1;33m                 \u001b[1;32mreturn\u001b[0m \u001b[0mself\u001b[0m\u001b[1;33m.\u001b[0m\u001b[0m_engine\u001b[0m\u001b[1;33m.\u001b[0m\u001b[0mget_loc\u001b[0m\u001b[1;33m(\u001b[0m\u001b[0mcasted_key\u001b[0m\u001b[1;33m)\u001b[0m\u001b[1;33m\u001b[0m\u001b[1;33m\u001b[0m\u001b[0m\n\u001b[0m\u001b[0;32m   3362\u001b[0m             \u001b[1;32mexcept\u001b[0m \u001b[0mKeyError\u001b[0m \u001b[1;32mas\u001b[0m \u001b[0merr\u001b[0m\u001b[1;33m:\u001b[0m\u001b[1;33m\u001b[0m\u001b[1;33m\u001b[0m\u001b[0m\n",
      "\u001b[1;32m~\\anaconda3\\lib\\site-packages\\pandas\\_libs\\index.pyx\u001b[0m in \u001b[0;36mpandas._libs.index.IndexEngine.get_loc\u001b[1;34m()\u001b[0m\n",
      "\u001b[1;32m~\\anaconda3\\lib\\site-packages\\pandas\\_libs\\index.pyx\u001b[0m in \u001b[0;36mpandas._libs.index.IndexEngine.get_loc\u001b[1;34m()\u001b[0m\n",
      "\u001b[1;32mpandas\\_libs\\hashtable_class_helper.pxi\u001b[0m in \u001b[0;36mpandas._libs.hashtable.PyObjectHashTable.get_item\u001b[1;34m()\u001b[0m\n",
      "\u001b[1;32mpandas\\_libs\\hashtable_class_helper.pxi\u001b[0m in \u001b[0;36mpandas._libs.hashtable.PyObjectHashTable.get_item\u001b[1;34m()\u001b[0m\n",
      "\u001b[1;31mKeyError\u001b[0m: 'Temperature'",
      "\nThe above exception was the direct cause of the following exception:\n",
      "\u001b[1;31mKeyError\u001b[0m                                  Traceback (most recent call last)",
      "\u001b[1;32m~\\AppData\\Local\\Temp/ipykernel_17832/492892508.py\u001b[0m in \u001b[0;36m<module>\u001b[1;34m\u001b[0m\n\u001b[1;32m----> 1\u001b[1;33m \u001b[0msns\u001b[0m\u001b[1;33m.\u001b[0m\u001b[0mswarmplot\u001b[0m\u001b[1;33m(\u001b[0m\u001b[0mdf\u001b[0m\u001b[1;33m[\u001b[0m\u001b[1;34m'Temperature'\u001b[0m\u001b[1;33m]\u001b[0m\u001b[1;33m,\u001b[0m \u001b[0mdf\u001b[0m\u001b[1;33m[\u001b[0m\u001b[1;34m'Humidity_ID'\u001b[0m\u001b[1;33m]\u001b[0m\u001b[1;33m)\u001b[0m\u001b[1;33m\u001b[0m\u001b[1;33m\u001b[0m\u001b[0m\n\u001b[0m",
      "\u001b[1;32m~\\anaconda3\\lib\\site-packages\\pandas\\core\\frame.py\u001b[0m in \u001b[0;36m__getitem__\u001b[1;34m(self, key)\u001b[0m\n\u001b[0;32m   3456\u001b[0m             \u001b[1;32mif\u001b[0m \u001b[0mself\u001b[0m\u001b[1;33m.\u001b[0m\u001b[0mcolumns\u001b[0m\u001b[1;33m.\u001b[0m\u001b[0mnlevels\u001b[0m \u001b[1;33m>\u001b[0m \u001b[1;36m1\u001b[0m\u001b[1;33m:\u001b[0m\u001b[1;33m\u001b[0m\u001b[1;33m\u001b[0m\u001b[0m\n\u001b[0;32m   3457\u001b[0m                 \u001b[1;32mreturn\u001b[0m \u001b[0mself\u001b[0m\u001b[1;33m.\u001b[0m\u001b[0m_getitem_multilevel\u001b[0m\u001b[1;33m(\u001b[0m\u001b[0mkey\u001b[0m\u001b[1;33m)\u001b[0m\u001b[1;33m\u001b[0m\u001b[1;33m\u001b[0m\u001b[0m\n\u001b[1;32m-> 3458\u001b[1;33m             \u001b[0mindexer\u001b[0m \u001b[1;33m=\u001b[0m \u001b[0mself\u001b[0m\u001b[1;33m.\u001b[0m\u001b[0mcolumns\u001b[0m\u001b[1;33m.\u001b[0m\u001b[0mget_loc\u001b[0m\u001b[1;33m(\u001b[0m\u001b[0mkey\u001b[0m\u001b[1;33m)\u001b[0m\u001b[1;33m\u001b[0m\u001b[1;33m\u001b[0m\u001b[0m\n\u001b[0m\u001b[0;32m   3459\u001b[0m             \u001b[1;32mif\u001b[0m \u001b[0mis_integer\u001b[0m\u001b[1;33m(\u001b[0m\u001b[0mindexer\u001b[0m\u001b[1;33m)\u001b[0m\u001b[1;33m:\u001b[0m\u001b[1;33m\u001b[0m\u001b[1;33m\u001b[0m\u001b[0m\n\u001b[0;32m   3460\u001b[0m                 \u001b[0mindexer\u001b[0m \u001b[1;33m=\u001b[0m \u001b[1;33m[\u001b[0m\u001b[0mindexer\u001b[0m\u001b[1;33m]\u001b[0m\u001b[1;33m\u001b[0m\u001b[1;33m\u001b[0m\u001b[0m\n",
      "\u001b[1;32m~\\anaconda3\\lib\\site-packages\\pandas\\core\\indexes\\base.py\u001b[0m in \u001b[0;36mget_loc\u001b[1;34m(self, key, method, tolerance)\u001b[0m\n\u001b[0;32m   3361\u001b[0m                 \u001b[1;32mreturn\u001b[0m \u001b[0mself\u001b[0m\u001b[1;33m.\u001b[0m\u001b[0m_engine\u001b[0m\u001b[1;33m.\u001b[0m\u001b[0mget_loc\u001b[0m\u001b[1;33m(\u001b[0m\u001b[0mcasted_key\u001b[0m\u001b[1;33m)\u001b[0m\u001b[1;33m\u001b[0m\u001b[1;33m\u001b[0m\u001b[0m\n\u001b[0;32m   3362\u001b[0m             \u001b[1;32mexcept\u001b[0m \u001b[0mKeyError\u001b[0m \u001b[1;32mas\u001b[0m \u001b[0merr\u001b[0m\u001b[1;33m:\u001b[0m\u001b[1;33m\u001b[0m\u001b[1;33m\u001b[0m\u001b[0m\n\u001b[1;32m-> 3363\u001b[1;33m                 \u001b[1;32mraise\u001b[0m \u001b[0mKeyError\u001b[0m\u001b[1;33m(\u001b[0m\u001b[0mkey\u001b[0m\u001b[1;33m)\u001b[0m \u001b[1;32mfrom\u001b[0m \u001b[0merr\u001b[0m\u001b[1;33m\u001b[0m\u001b[1;33m\u001b[0m\u001b[0m\n\u001b[0m\u001b[0;32m   3364\u001b[0m \u001b[1;33m\u001b[0m\u001b[0m\n\u001b[0;32m   3365\u001b[0m         \u001b[1;32mif\u001b[0m \u001b[0mis_scalar\u001b[0m\u001b[1;33m(\u001b[0m\u001b[0mkey\u001b[0m\u001b[1;33m)\u001b[0m \u001b[1;32mand\u001b[0m \u001b[0misna\u001b[0m\u001b[1;33m(\u001b[0m\u001b[0mkey\u001b[0m\u001b[1;33m)\u001b[0m \u001b[1;32mand\u001b[0m \u001b[1;32mnot\u001b[0m \u001b[0mself\u001b[0m\u001b[1;33m.\u001b[0m\u001b[0mhasnans\u001b[0m\u001b[1;33m:\u001b[0m\u001b[1;33m\u001b[0m\u001b[1;33m\u001b[0m\u001b[0m\n",
      "\u001b[1;31mKeyError\u001b[0m: 'Temperature'"
     ]
    }
   ],
   "source": [
    "sns.swarmplot(df['Temperature'], df['Humidity_ID'])"
   ]
  },
  {
   "cell_type": "code",
   "execution_count": null,
   "metadata": {
    "colab": {
     "base_uri": "https://localhost:8080/",
     "height": 513
    },
    "id": "IFIiogZwf587",
    "outputId": "1d7b8807-ec3a-49ce-b9e1-76fd57181ba4"
   },
   "outputs": [
    {
     "name": "stderr",
     "output_type": "stream",
     "text": [
      "/usr/local/lib/python3.7/dist-packages/seaborn/_decorators.py:43: FutureWarning: Pass the following variables as keyword args: x, y. From version 0.12, the only valid positional argument will be `data`, and passing other arguments without an explicit keyword will result in an error or misinterpretation.\n",
      "  FutureWarning\n"
     ]
    },
    {
     "data": {
      "text/plain": [
       "<seaborn.axisgrid.JointGrid at 0x7fa3adc81190>"
      ]
     },
     "execution_count": 11,
     "metadata": {},
     "output_type": "execute_result"
    },
    {
     "data": {
      "image/png": "[encoded data removed]",
      "text/plain": [
       "<Figure size 432x432 with 3 Axes>"
      ]
     },
     "metadata": {
      "needs_background": "light"
     },
     "output_type": "display_data"
    }
   ],
   "source": [
    "sns.jointplot(df['Temperature'], df['Humidity_ID'], kind=\"kde\")"
   ]
  },
  {
   "cell_type": "code",
   "execution_count": null,
   "metadata": {
    "colab": {
     "base_uri": "https://localhost:8080/",
     "height": 567
    },
    "id": "0hhp1vZUeapQ",
    "outputId": "5ed062fb-5d73-4abd-9966-2cfde96e67fb"
   },
   "outputs": [
    {
     "data": {
      "text/plain": [
       "<seaborn.axisgrid.PairGrid at 0x7fa3aac87310>"
      ]
     },
     "execution_count": 12,
     "metadata": {},
     "output_type": "execute_result"
    },
    {
     "data": {
      "image/png": "[encoded data removed]",
      "text/plain": [
       "<Figure size 540x540 with 12 Axes>"
      ]
     },
     "metadata": {
      "needs_background": "light"
     },
     "output_type": "display_data"
    }
   ],
   "source": [
    "sns.pairplot(df[['Temperature', 'Humidity_ID', 'Sap_Flux']])"
   ]
  },
  {
   "cell_type": "code",
   "execution_count": null,
   "metadata": {
    "id": "y9mekmhj6eJO"
   },
   "outputs": [],
   "source": [
    "# for i in range(21):\n",
    "#   print(df.iloc[i].Temperature)\n"
   ]
  },
  {
   "cell_type": "markdown",
   "metadata": {
    "id": "r4FBPannZ2Bq"
   },
   "source": [
    "## **environnement**"
   ]
  },
  {
   "cell_type": "code",
   "execution_count": null,
   "metadata": {
    "id": "OhOcesQnZ1HL"
   },
   "outputs": [],
   "source": [
    "#reward ideal\n",
    "reward_ideal=0.4*35+0.3*20+0.3*50"
   ]
  },
  {
   "cell_type": "code",
   "execution_count": null,
   "metadata": {
    "id": "Pb-2EKv-mEdL"
   },
   "outputs": [],
   "source": [
    "class Env(Env):\n",
    "    def __init__(self):\n",
    "        # Actions we can take 0:dont irrugate, 1: irrugate 3min ,2:irrugation 6min\n",
    "        self.action_space = Discrete(3)\n",
    "        # State we can take ok ,wet ,dry\n",
    "        self.state_space = Discrete(3)\n",
    "        #temperature d'air\n",
    "        self.air_temperature = random.randint(0,50)\n",
    "        #sol humidute entre 40 et 65% avec interdue plus de 80%\n",
    "        self.sol_humidite = random.randint(10,100)\n",
    "        #sap flux\n",
    "        self.sap_flou= random.randint(0,50)\n",
    "        # Set irrigation length en secande\n",
    "        self.irrigution_length = 60\n",
    "    def step(self, action):\n",
    "        # Calculate reward\n",
    "        penality=abs(0.4*self.sap_flou-35)+abs(0.3*(self.air_temperature-20))+abs(0.3*(self.sol_humidite-50)) \n",
    "        #calcul de sap flou :::\n",
    "        print(\"sap flou =\", self.sap_flou)\n",
    "        print(\"penality = \",penality)\n",
    "        if self.sol_humidite >=40 and self.sol_humidite <=65 :\n",
    "          self.state_space=0\n",
    "\n",
    "        elif self.sol_humidite <40:\n",
    "          self.state_space=1\n",
    "        else :\n",
    "          self.state_space=2\n",
    "        # Reduce irrugation length by 3 second\n",
    "        # if action==0 :\n",
    "        #   self.irrigution_length -= 360\n",
    "        # elif action ==1 :\n",
    "        #   self.irrigution_length -= 2\n",
    "        # else :\n",
    "        #   self.irrigution_length -= 1\n",
    "\n",
    "        self.irrigution_length -= 1\n",
    "        \n",
    "        if self.state_space !=0 :   \n",
    "            reward=reward_ideal-penality\n",
    "            print(\"temperature= \",self.air_temperature)\n",
    "            print(\"sol humidute =\",self.sol_humidite)\n",
    "            print(\"sap flou =\", self.sap_flou)\n",
    "            print(\"penality = \",penality)\n",
    "            print(\"reward = \",reward)\n",
    "        else :\n",
    "           reward=reward_ideal\n",
    "           print(\"temperature= \",self.air_temperature)\n",
    "           print(\"sol humidute =\",self.sol_humidite)\n",
    "           print(\"sap flou =\", self.sap_flou)\n",
    "           print(\"::::::\")\n",
    "        # Check if temps d'irrigation is done\n",
    "        if self.irrigution_length <= 0: \n",
    "            done = True\n",
    "        else:\n",
    "            done = False\n",
    "        \n",
    "        # Apply temperature noise\n",
    "        #self.state += random.randint(-1,1)\n",
    "        # Set placeholder for info\n",
    "        info = {}\n",
    "        \n",
    "        # Return step information\n",
    "        return self.state_space, reward, done, info\n",
    "\n",
    "    def render(self):\n",
    "        # Implement viz\n",
    "        pass\n",
    "    \n",
    "    def reset(self,air_temperature,sol_humidite,sap_flou ):\n",
    "        print(\"§§§§§§§§§§\")\n",
    "        #reset temperature d'air\n",
    "        self.air_temperature = air_temperature \n",
    "        #reset sol humidute entre 40 et 65% avec interdue plus de 80%\n",
    "        self.sol_humidite = sol_humidite\n",
    "        #sap flou density\n",
    "        self.sap_flou= sap_flou\n",
    "        penality=abs(0.4*self.sap_flou-35)+abs(0.3*(self.air_temperature-20))+abs(0.3*(self.sol_humidite-50)) \n",
    "        # Reset irrugution time\n",
    "        self.irrigution_length = 60\n",
    "        print(\"sap flou =\", self.sap_flou)\n",
    "        print(\"penality = \",penality)\n",
    "        print(\"§§§§§§§§§§\")\n",
    "        return self.state_space\n",
    "    "
   ]
  },
  {
   "cell_type": "markdown",
   "metadata": {
    "id": "tKCpCjFsaRTW"
   },
   "source": [
    "## **Trainning**"
   ]
  },
  {
   "cell_type": "code",
   "execution_count": null,
   "metadata": {
    "id": "o6zM8nZU2VNu"
   },
   "outputs": [],
   "source": [
    "#number of episode we will run\n",
    "n_episodes = 1\n",
    "#maximum of iteration per episode(temps d'irrigation)\n",
    "max_iter_episode = 60\n",
    "#initialize the exploration probability to 1\n",
    "exploration_proba = 1\n",
    "#exploartion decreasing decay for exponential decreasing\n",
    "exploration_decreasing_decay = 0.001\n",
    "# minimum of exploration proba\n",
    "min_exploration_proba = 0.01\n",
    "#discounted factor\n",
    "gamma = 0.99\n",
    "#learning rate\n",
    "lr = 0.1"
   ]
  },
  {
   "cell_type": "code",
   "execution_count": null,
   "metadata": {
    "id": "5aDJcoa8dOI_"
   },
   "outputs": [],
   "source": [
    "env = Env()"
   ]
  },
  {
   "cell_type": "code",
   "execution_count": null,
   "metadata": {
    "colab": {
     "base_uri": "https://localhost:8080/"
    },
    "id": "-x8I_XkdiW-r",
    "outputId": "d75783ca-d8e9-4b4f-9d95-badd95a97193"
   },
   "outputs": [
    {
     "name": "stdout",
     "output_type": "stream",
     "text": [
      "[[0. 0. 0.]\n",
      " [0. 0. 0.]\n",
      " [0. 0. 0.]]\n"
     ]
    }
   ],
   "source": [
    "#Initialize the Q-table to 0\n",
    "n_observations = env.state_space.n\n",
    "n_actions = env.action_space.n\n",
    "Q_table = np.zeros((n_observations,n_actions))\n",
    "print(Q_table)"
   ]
  },
  {
   "cell_type": "code",
   "execution_count": null,
   "metadata": {
    "colab": {
     "base_uri": "https://localhost:8080/"
    },
    "id": "MmxGT88sJT4J",
    "outputId": "ab3b968c-e583-4bd4-99d5-1ae0b187ba54"
   },
   "outputs": [
    {
     "name": "stdout",
     "output_type": "stream",
     "text": [
      "§§§§§§§§§§\n",
      "sap flou = 1.434347248\n",
      "penality =  38.1642611008\n",
      "§§§§§§§§§§\n",
      "numereo d'episodes 1\n",
      "action 2\n",
      "sap flou = 1.434347248\n",
      "penality =  38.1642611008\n",
      "temperature=  28.63\n",
      "sol humidute = 51.83\n",
      "sap flou = 3.434347248\n",
      "::::::\n",
      "new_state_space 0\n",
      "[[0.  0.  3.5]\n",
      " [0.  0.  0. ]\n",
      " [0.  0.  0. ]]\n",
      "sol humidute = 51.83\n",
      "action 0\n",
      "sap flou = 3.434347248\n",
      "penality =  36.7642611008\n",
      "temperature=  28.63\n",
      "sol humidute = 51.83\n",
      "sap flou = 3.434347248\n",
      "::::::\n",
      "new_state_space 0\n",
      "[[3.8465 0.     3.5   ]\n",
      " [0.     0.     0.    ]\n",
      " [0.     0.     0.    ]]\n",
      "sol humidute = 51.83\n",
      "action 0\n",
      "sap flou = 3.434347248\n",
      "penality =  36.7642611008\n",
      "temperature=  28.63\n",
      "sol humidute = 51.83\n",
      "sap flou = 3.434347248\n",
      "::::::\n",
      "new_state_space 0\n",
      "[[7.3426535 0.        3.5      ]\n",
      " [0.        0.        0.       ]\n",
      " [0.        0.        0.       ]]\n",
      "sol humidute = 51.83\n",
      "action 1\n",
      "sap flou = 3.434347248\n",
      "penality =  36.7642611008\n",
      "temperature=  28.63\n",
      "sol humidute = 50.83\n",
      "sap flou = 4.434347248\n",
      "::::::\n",
      "new_state_space 0\n",
      "[[7.3426535 4.2269227 3.5      ]\n",
      " [0.        0.        0.       ]\n",
      " [0.        0.        0.       ]]\n",
      "sol humidute = 50.83\n",
      "action 2\n",
      "sap flou = 4.434347248\n",
      "penality =  36.0642611008\n",
      "temperature=  28.63\n",
      "sol humidute = 48.83\n",
      "sap flou = 6.434347248\n",
      "::::::\n",
      "new_state_space 0\n",
      "[[7.3426535 4.2269227 7.3769227]\n",
      " [0.        0.        0.       ]\n",
      " [0.        0.        0.       ]]\n",
      "sol humidute = 48.83\n",
      "action 0\n",
      "sap flou = 6.434347248\n",
      "penality =  35.366261100799996\n",
      "temperature=  28.63\n",
      "sol humidute = 48.83\n",
      "sap flou = 6.434347248\n",
      "::::::\n",
      "new_state_space 0\n",
      "[[10.8387035  4.2269227  7.3769227]\n",
      " [ 0.         0.         0.       ]\n",
      " [ 0.         0.         0.       ]]\n",
      "sol humidute = 48.83\n",
      "action 1\n",
      "sap flou = 6.434347248\n",
      "penality =  35.366261100799996\n",
      "temperature=  28.63\n",
      "sol humidute = 47.83\n",
      "sap flou = 7.434347248\n",
      "::::::\n",
      "new_state_space 0\n",
      "[[10.8387035   8.37726207  7.3769227 ]\n",
      " [ 0.          0.          0.        ]\n",
      " [ 0.          0.          0.        ]]\n",
      "sol humidute = 47.83\n",
      "action 2\n",
      "sap flou = 7.434347248\n",
      "penality =  35.2662611008\n",
      "temperature=  28.63\n",
      "sol humidute = 45.83\n",
      "sap flou = 9.434347248\n",
      "::::::\n",
      "new_state_space 0\n",
      "[[10.8387035   8.37726207 11.21226207]\n",
      " [ 0.          0.          0.        ]\n",
      " [ 0.          0.          0.        ]]\n",
      "sol humidute = 45.83\n",
      "action 0\n",
      "sap flou = 9.434347248\n",
      "penality =  35.0662611008\n",
      "temperature=  28.63\n",
      "sol humidute = 45.83\n",
      "sap flou = 9.434347248\n",
      "::::::\n",
      "new_state_space 0\n",
      "[[14.36484709  8.37726207 11.21226207]\n",
      " [ 0.          0.          0.        ]\n",
      " [ 0.          0.          0.        ]]\n",
      "sol humidute = 45.83\n",
      "action 2\n",
      "sap flou = 9.434347248\n",
      "penality =  35.0662611008\n",
      "temperature=  28.63\n",
      "sol humidute = 43.83\n",
      "sap flou = 11.434347248\n",
      "::::::\n",
      "new_state_space 0\n",
      "[[14.36484709  8.37726207 15.01315573]\n",
      " [ 0.          0.          0.        ]\n",
      " [ 0.          0.          0.        ]]\n",
      "sol humidute = 43.83\n",
      "action 0\n",
      "sap flou = 11.434347248\n",
      "penality =  34.866261100799996\n",
      "temperature=  28.63\n",
      "sol humidute = 43.83\n",
      "sap flou = 11.434347248\n",
      "::::::\n",
      "new_state_space 0\n",
      "[[17.9146648   8.37726207 15.01315573]\n",
      " [ 0.          0.          0.        ]\n",
      " [ 0.          0.          0.        ]]\n",
      "sol humidute = 43.83\n",
      "action 2\n",
      "sap flou = 11.434347248\n",
      "penality =  34.866261100799996\n",
      "temperature=  28.63\n",
      "sol humidute = 41.83\n",
      "sap flou = 13.434347248\n",
      "::::::\n",
      "new_state_space 0\n",
      "[[17.9146648   8.37726207 18.78539197]\n",
      " [ 0.          0.          0.        ]\n",
      " [ 0.          0.          0.        ]]\n",
      "sol humidute = 41.83\n",
      "action 2\n",
      "sap flou = 13.434347248\n",
      "penality =  34.6662611008\n",
      "temperature=  28.63\n",
      "sol humidute = 39.83\n",
      "sap flou = 15.434347248\n",
      "penality =  34.6662611008\n",
      "reward =  0.3337388992000001\n",
      "new_state_space 1\n",
      "[[17.9146648   8.37726207 18.78539197]\n",
      " [ 0.          0.          0.03337389]\n",
      " [ 0.          0.          0.        ]]\n",
      "sol humidute = 39.83\n",
      "action 0\n",
      "sap flou = 15.434347248\n",
      "penality =  34.4662611008\n",
      "temperature=  28.63\n",
      "sol humidute = 39.83\n",
      "sap flou = 15.434347248\n",
      "penality =  34.4662611008\n",
      "reward =  0.533738899200003\n",
      "new_state_space 1\n",
      "[[17.9146648   8.37726207 18.78539197]\n",
      " [ 0.05667791  0.          0.03337389]\n",
      " [ 0.          0.          0.        ]]\n",
      "sol humidute = 39.83\n",
      "action 2\n",
      "sap flou = 15.434347248\n",
      "penality =  34.4662611008\n",
      "temperature=  28.63\n",
      "sol humidute = 37.83\n",
      "sap flou = 17.434347248\n",
      "penality =  34.4662611008\n",
      "reward =  0.533738899200003\n",
      "new_state_space 1\n",
      "[[17.9146648   8.37726207 18.78539197]\n",
      " [ 0.05667791  0.          0.0890215 ]\n",
      " [ 0.          0.          0.        ]]\n",
      "sol humidute = 37.83\n",
      "action 0\n",
      "sap flou = 17.434347248\n",
      "penality =  34.2662611008\n",
      "temperature=  28.63\n",
      "sol humidute = 37.83\n",
      "sap flou = 17.434347248\n",
      "penality =  34.2662611008\n",
      "reward =  0.7337388991999987\n",
      "new_state_space 1\n",
      "[[17.9146648   8.37726207 18.78539197]\n",
      " [ 0.13319713  0.          0.0890215 ]\n",
      " [ 0.          0.          0.        ]]\n",
      "sol humidute = 37.83\n",
      "action 0\n",
      "sap flou = 17.434347248\n",
      "penality =  34.2662611008\n",
      "temperature=  28.63\n",
      "sol humidute = 37.83\n",
      "sap flou = 17.434347248\n",
      "penality =  34.2662611008\n",
      "reward =  0.7337388991999987\n",
      "new_state_space 1\n",
      "[[17.9146648   8.37726207 18.78539197]\n",
      " [ 0.20643783  0.          0.0890215 ]\n",
      " [ 0.          0.          0.        ]]\n",
      "sol humidute = 37.83\n",
      "action 0\n",
      "sap flou = 17.434347248\n",
      "penality =  34.2662611008\n",
      "temperature=  28.63\n",
      "sol humidute = 37.83\n",
      "sap flou = 17.434347248\n",
      "penality =  34.2662611008\n",
      "reward =  0.7337388991999987\n",
      "new_state_space 1\n",
      "[[17.9146648   8.37726207 18.78539197]\n",
      " [ 0.27960528  0.          0.0890215 ]\n",
      " [ 0.          0.          0.        ]]\n",
      "sol humidute = 37.83\n",
      "action 2\n",
      "sap flou = 17.434347248\n",
      "penality =  34.2662611008\n",
      "temperature=  28.63\n",
      "sol humidute = 35.83\n",
      "sap flou = 19.434347248\n",
      "penality =  34.2662611008\n",
      "reward =  0.7337388991999987\n",
      "new_state_space 1\n",
      "[[17.9146648   8.37726207 18.78539197]\n",
      " [ 0.27960528  0.          0.18117417]\n",
      " [ 0.          0.          0.        ]]\n",
      "sol humidute = 35.83\n",
      "action 0\n",
      "sap flou = 19.434347248\n",
      "penality =  34.0662611008\n",
      "temperature=  28.63\n",
      "sol humidute = 35.83\n",
      "sap flou = 19.434347248\n",
      "penality =  34.0662611008\n",
      "reward =  0.9337388992000015\n",
      "new_state_space 1\n",
      "[[17.9146648   8.37726207 18.78539197]\n",
      " [ 0.37269956  0.          0.18117417]\n",
      " [ 0.          0.          0.        ]]\n",
      "sol humidute = 35.83\n",
      "action 1\n",
      "sap flou = 19.434347248\n",
      "penality =  34.0662611008\n",
      "temperature=  28.63\n",
      "sol humidute = 34.83\n",
      "sap flou = 20.434347248\n",
      "penality =  34.0662611008\n",
      "reward =  0.9337388992000015\n",
      "new_state_space 1\n",
      "[[17.9146648   8.37726207 18.78539197]\n",
      " [ 0.37269956  0.13027115  0.18117417]\n",
      " [ 0.          0.          0.        ]]\n",
      "sol humidute = 34.83\n",
      "action 2\n",
      "sap flou = 20.434347248\n",
      "penality =  33.9662611008\n",
      "temperature=  28.63\n",
      "sol humidute = 32.83\n",
      "sap flou = 22.434347248\n",
      "penality =  33.9662611008\n",
      "reward =  1.033738899200003\n",
      "new_state_space 1\n",
      "[[17.9146648   8.37726207 18.78539197]\n",
      " [ 0.37269956  0.13027115  0.3033279 ]\n",
      " [ 0.          0.          0.        ]]\n",
      "sol humidute = 32.83\n",
      "action 2\n",
      "sap flou = 22.434347248\n",
      "penality =  33.7662611008\n",
      "temperature=  28.63\n",
      "sol humidute = 30.83\n",
      "sap flou = 24.434347248\n",
      "penality =  33.7662611008\n",
      "reward =  1.2337388991999987\n",
      "new_state_space 1\n",
      "[[17.9146648   8.37726207 18.78539197]\n",
      " [ 0.37269956  0.13027115  0.43326625]\n",
      " [ 0.          0.          0.        ]]\n",
      "sol humidute = 30.83\n",
      "action 1\n",
      "sap flou = 24.434347248\n",
      "penality =  33.5662611008\n",
      "temperature=  28.63\n",
      "sol humidute = 29.83\n",
      "sap flou = 25.434347248\n",
      "penality =  33.5662611008\n",
      "reward =  1.4337388992000015\n",
      "new_state_space 1\n",
      "[[17.9146648   8.37726207 18.78539197]\n",
      " [ 0.37269956  0.30351128  0.43326625]\n",
      " [ 0.          0.          0.        ]]\n",
      "sol humidute = 29.83\n",
      "action 0\n",
      "sap flou = 25.434347248\n",
      "penality =  33.4662611008\n",
      "temperature=  28.63\n",
      "sol humidute = 29.83\n",
      "sap flou = 25.434347248\n",
      "penality =  33.4662611008\n",
      "reward =  1.533738899200003\n",
      "new_state_space 1\n",
      "[[17.9146648   8.37726207 18.78539197]\n",
      " [ 0.53169686  0.30351128  0.43326625]\n",
      " [ 0.          0.          0.        ]]\n",
      "sol humidute = 29.83\n",
      "action 1\n",
      "sap flou = 25.434347248\n",
      "penality =  33.4662611008\n",
      "temperature=  28.63\n",
      "sol humidute = 28.83\n",
      "sap flou = 26.434347248\n",
      "penality =  33.4662611008\n",
      "reward =  1.533738899200003\n",
      "new_state_space 1\n",
      "[[17.9146648   8.37726207 18.78539197]\n",
      " [ 0.53169686  0.47917203  0.43326625]\n",
      " [ 0.          0.          0.        ]]\n",
      "sol humidute = 28.83\n",
      "action 1\n",
      "sap flou = 26.434347248\n",
      "penality =  33.366261100799996\n",
      "temperature=  28.63\n",
      "sol humidute = 27.83\n",
      "sap flou = 27.434347248\n",
      "penality =  33.366261100799996\n",
      "reward =  1.6337388992000044\n",
      "new_state_space 1\n",
      "[[17.9146648   8.37726207 18.78539197]\n",
      " [ 0.53169686  0.64726671  0.43326625]\n",
      " [ 0.          0.          0.        ]]\n",
      "sol humidute = 27.83\n",
      "action 0\n",
      "sap flou = 27.434347248\n",
      "penality =  33.2662611008\n",
      "temperature=  28.63\n",
      "sol humidute = 27.83\n",
      "sap flou = 27.434347248\n",
      "penality =  33.2662611008\n",
      "reward =  1.7337388991999987\n",
      "new_state_space 1\n",
      "[[17.9146648   8.37726207 18.78539197]\n",
      " [ 0.71598046  0.64726671  0.43326625]\n",
      " [ 0.          0.          0.        ]]\n",
      "sol humidute = 27.83\n",
      "action 0\n",
      "sap flou = 27.434347248\n",
      "penality =  33.2662611008\n",
      "temperature=  28.63\n",
      "sol humidute = 27.83\n",
      "sap flou = 27.434347248\n",
      "penality =  33.2662611008\n",
      "reward =  1.7337388991999987\n",
      "new_state_space 1\n",
      "[[17.9146648   8.37726207 18.78539197]\n",
      " [ 0.88863837  0.64726671  0.43326625]\n",
      " [ 0.          0.          0.        ]]\n",
      "sol humidute = 27.83\n",
      "action 2\n",
      "sap flou = 27.434347248\n",
      "penality =  33.2662611008\n",
      "temperature=  28.63\n",
      "sol humidute = 25.83\n",
      "sap flou = 29.434347248\n",
      "penality =  33.2662611008\n",
      "reward =  1.7337388991999987\n",
      "new_state_space 1\n",
      "[[17.9146648   8.37726207 18.78539197]\n",
      " [ 0.88863837  0.64726671  0.65128872]\n",
      " [ 0.          0.          0.        ]]\n",
      "sol humidute = 25.83\n",
      "action 2\n",
      "sap flou = 29.434347248\n",
      "penality =  33.0662611008\n",
      "temperature=  28.63\n",
      "sol humidute = 23.83\n",
      "sap flou = 31.434347248\n",
      "penality =  33.0662611008\n",
      "reward =  1.9337388992000015\n",
      "new_state_space 1\n",
      "[[17.9146648   8.37726207 18.78539197]\n",
      " [ 0.88863837  0.64726671  0.86750893]\n",
      " [ 0.          0.          0.        ]]\n",
      "sol humidute = 23.83\n",
      "action 2\n",
      "sap flou = 31.434347248\n",
      "penality =  32.866261100799996\n",
      "temperature=  28.63\n",
      "sol humidute = 21.83\n",
      "sap flou = 33.434347248\n",
      "penality =  32.866261100799996\n",
      "reward =  2.1337388992000044\n",
      "new_state_space 1\n",
      "[[17.9146648   8.37726207 18.78539197]\n",
      " [ 0.88863837  0.64726671  1.08210713]\n",
      " [ 0.          0.          0.        ]]\n",
      "sol humidute = 21.83\n",
      "action 2\n",
      "sap flou = 33.434347248\n",
      "penality =  32.6662611008\n",
      "temperature=  28.63\n",
      "sol humidute = 19.83\n",
      "sap flou = 35.434347248\n",
      "penality =  32.6662611008\n",
      "reward =  2.3337388992\n",
      "new_state_space 1\n",
      "[[17.9146648   8.37726207 18.78539197]\n",
      " [ 0.88863837  0.64726671  1.31439891]\n",
      " [ 0.          0.          0.        ]]\n",
      "sol humidute = 19.83\n",
      "action 2\n",
      "sap flou = 35.434347248\n",
      "penality =  32.4662611008\n",
      "temperature=  28.63\n",
      "sol humidute = 17.83\n",
      "sap flou = 37.434347248\n",
      "penality =  32.4662611008\n",
      "reward =  2.533738899200003\n",
      "new_state_space 1\n",
      "[[17.9146648   8.37726207 18.78539197]\n",
      " [ 0.88863837  0.64726671  1.5664584 ]\n",
      " [ 0.          0.          0.        ]]\n",
      "sol humidute = 17.83\n",
      "action 0\n",
      "sap flou = 37.434347248\n",
      "penality =  32.266261100799994\n",
      "temperature=  28.63\n",
      "sol humidute = 17.83\n",
      "sap flou = 37.434347248\n",
      "penality =  32.266261100799994\n",
      "reward =  2.733738899200006\n",
      "new_state_space 1\n",
      "[[17.9146648   8.37726207 18.78539197]\n",
      " [ 1.22822781  0.64726671  1.5664584 ]\n",
      " [ 0.          0.          0.        ]]\n",
      "sol humidute = 17.83\n",
      "action 1\n",
      "sap flou = 37.434347248\n",
      "penality =  32.266261100799994\n",
      "temperature=  28.63\n",
      "sol humidute = 16.83\n",
      "sap flou = 38.434347248\n",
      "penality =  32.266261100799994\n",
      "reward =  2.733738899200006\n",
      "new_state_space 1\n",
      "[[17.9146648   8.37726207 18.78539197]\n",
      " [ 1.22822781  1.01099331  1.5664584 ]\n",
      " [ 0.          0.          0.        ]]\n",
      "sol humidute = 16.83\n",
      "action 0\n",
      "sap flou = 38.434347248\n",
      "penality =  32.1662611008\n",
      "temperature=  28.63\n",
      "sol humidute = 16.83\n",
      "sap flou = 38.434347248\n",
      "penality =  32.1662611008\n",
      "reward =  2.8337388992\n",
      "new_state_space 1\n",
      "[[17.9146648   8.37726207 18.78539197]\n",
      " [ 1.5438583   1.01099331  1.5664584 ]\n",
      " [ 0.          0.          0.        ]]\n",
      "sol humidute = 16.83\n",
      "action 0\n",
      "sap flou = 38.434347248\n",
      "penality =  32.1662611008\n",
      "temperature=  28.63\n",
      "sol humidute = 16.83\n",
      "sap flou = 38.434347248\n",
      "penality =  32.1662611008\n",
      "reward =  2.8337388992\n",
      "new_state_space 1\n",
      "[[17.9146648   8.37726207 18.78539197]\n",
      " [ 1.82792574  1.01099331  1.5664584 ]\n",
      " [ 0.          0.          0.        ]]\n",
      "sol humidute = 16.83\n",
      "action 2\n",
      "sap flou = 38.434347248\n",
      "penality =  32.1662611008\n",
      "temperature=  28.63\n",
      "sol humidute = 14.829999999999998\n",
      "sap flou = 40.434347248\n",
      "penality =  32.1662611008\n",
      "reward =  2.8337388992\n",
      "new_state_space 1\n",
      "[[17.9146648   8.37726207 18.78539197]\n",
      " [ 1.82792574  1.01099331  1.8741511 ]\n",
      " [ 0.          0.          0.        ]]\n",
      "sol humidute = 14.829999999999998\n",
      "action 2\n",
      "sap flou = 40.434347248\n",
      "penality =  31.966261100799997\n",
      "temperature=  28.63\n",
      "sol humidute = 12.829999999999998\n",
      "sap flou = 42.434347248\n",
      "penality =  31.966261100799997\n",
      "reward =  3.033738899200003\n",
      "new_state_space 1\n",
      "[[17.9146648   8.37726207 18.78539197]\n",
      " [ 1.82792574  1.01099331  2.17565084]\n",
      " [ 0.          0.          0.        ]]\n",
      "sol humidute = 12.829999999999998\n",
      "action 1\n",
      "sap flou = 42.434347248\n",
      "penality =  31.766261100799998\n",
      "temperature=  28.63\n",
      "sol humidute = 11.829999999999998\n",
      "sap flou = 43.434347248\n",
      "penality =  31.766261100799998\n",
      "reward =  3.2337388992000022\n",
      "new_state_space 1\n",
      "[[17.9146648   8.37726207 18.78539197]\n",
      " [ 1.82792574  1.4486573   2.17565084]\n",
      " [ 0.          0.          0.        ]]\n",
      "sol humidute = 11.829999999999998\n",
      "action 2\n",
      "sap flou = 43.434347248\n",
      "penality =  31.666261100799996\n",
      "temperature=  28.63\n",
      "sol humidute = 9.829999999999998\n",
      "sap flou = 45.434347248\n",
      "penality =  31.666261100799996\n",
      "reward =  3.3337388992000037\n",
      "new_state_space 1\n",
      "[[17.9146648   8.37726207 18.78539197]\n",
      " [ 1.82792574  1.4486573   2.50684908]\n",
      " [ 0.          0.          0.        ]]\n",
      "sol humidute = 9.829999999999998\n",
      "action 2\n",
      "sap flou = 45.434347248\n",
      "penality =  31.466261100799997\n",
      "temperature=  28.63\n",
      "sol humidute = 7.829999999999998\n",
      "sap flou = 47.434347248\n",
      "penality =  31.466261100799997\n",
      "reward =  3.533738899200003\n",
      "new_state_space 1\n",
      "[[17.9146648   8.37726207 18.78539197]\n",
      " [ 1.82792574  1.4486573   2.85771612]\n",
      " [ 0.          0.          0.        ]]\n",
      "sol humidute = 7.829999999999998\n",
      "action 0\n",
      "sap flou = 47.434347248\n",
      "penality =  31.266261100799998\n",
      "temperature=  28.63\n",
      "sol humidute = 7.829999999999998\n",
      "sap flou = 47.434347248\n",
      "penality =  31.266261100799998\n",
      "reward =  3.7337388992000022\n",
      "new_state_space 1\n",
      "[[17.9146648   8.37726207 18.78539197]\n",
      " [ 2.30142095  1.4486573   2.85771612]\n",
      " [ 0.          0.          0.        ]]\n",
      "sol humidute = 7.829999999999998\n",
      "action 1\n",
      "sap flou = 47.434347248\n",
      "penality =  31.266261100799998\n",
      "temperature=  28.63\n",
      "sol humidute = 6.829999999999998\n",
      "sap flou = 48.434347248\n",
      "penality =  31.266261100799998\n",
      "reward =  3.7337388992000022\n",
      "new_state_space 1\n",
      "[[17.9146648   8.37726207 18.78539197]\n",
      " [ 2.30142095  1.96007936  2.85771612]\n",
      " [ 0.          0.          0.        ]]\n",
      "sol humidute = 6.829999999999998\n",
      "action 2\n",
      "sap flou = 48.434347248\n",
      "penality =  31.166261100799996\n",
      "temperature=  28.63\n",
      "sol humidute = 4.829999999999998\n",
      "sap flou = 50.434347248\n",
      "penality =  31.166261100799996\n",
      "reward =  3.8337388992000037\n",
      "new_state_space 1\n",
      "[[17.9146648   8.37726207 18.78539197]\n",
      " [ 2.30142095  1.96007936  3.23823229]\n",
      " [ 0.          0.          0.        ]]\n",
      "sol humidute = 4.829999999999998\n",
      "action 0\n",
      "sap flou = 50.434347248\n",
      "penality =  30.966261100799997\n",
      "temperature=  28.63\n",
      "sol humidute = 4.829999999999998\n",
      "sap flou = 50.434347248\n",
      "penality =  30.966261100799997\n",
      "reward =  4.033738899200003\n",
      "new_state_space 1\n",
      "[[17.9146648   8.37726207 18.78539197]\n",
      " [ 2.79523774  1.96007936  3.23823229]\n",
      " [ 0.          0.          0.        ]]\n",
      "sol humidute = 4.829999999999998\n",
      "action 2\n",
      "sap flou = 50.434347248\n",
      "penality =  30.966261100799997\n",
      "temperature=  28.63\n",
      "sol humidute = 2.8299999999999983\n",
      "sap flou = 52.434347248\n",
      "penality =  30.966261100799997\n",
      "reward =  4.033738899200003\n",
      "new_state_space 1\n",
      "[[17.9146648   8.37726207 18.78539197]\n",
      " [ 2.79523774  1.96007936  3.63836795]\n",
      " [ 0.          0.          0.        ]]\n",
      "sol humidute = 2.8299999999999983\n",
      "action 2\n",
      "sap flou = 52.434347248\n",
      "penality =  30.766261100799998\n",
      "temperature=  28.63\n",
      "sol humidute = 0.8299999999999983\n",
      "sap flou = 54.434347248\n",
      "penality =  30.766261100799998\n",
      "reward =  4.233738899200002\n",
      "new_state_space 1\n",
      "[[17.9146648   8.37726207 18.78539197]\n",
      " [ 2.79523774  1.96007936  4.05810347]\n",
      " [ 0.          0.          0.        ]]\n",
      "sol humidute = 0.8299999999999983\n",
      "action 1\n",
      "sap flou = 54.434347248\n",
      "penality =  30.5662611008\n",
      "temperature=  28.63\n",
      "sol humidute = -0.1700000000000017\n",
      "sap flou = 55.434347248\n",
      "penality =  30.5662611008\n",
      "reward =  4.4337388992000015\n",
      "new_state_space 1\n",
      "[[17.9146648   8.37726207 18.78539197]\n",
      " [ 2.79523774  2.60919755  4.05810347]\n",
      " [ 0.          0.          0.        ]]\n",
      "sol humidute = -0.1700000000000017\n",
      "action 2\n",
      "sap flou = 55.434347248\n",
      "penality =  30.466261100799997\n",
      "temperature=  28.63\n",
      "sol humidute = -2.1700000000000017\n",
      "sap flou = 57.434347248\n",
      "penality =  30.466261100799997\n",
      "reward =  4.533738899200003\n",
      "new_state_space 1\n",
      "[[17.9146648   8.37726207 18.78539197]\n",
      " [ 2.79523774  2.60919755  4.50741926]\n",
      " [ 0.          0.          0.        ]]\n",
      "sol humidute = -2.1700000000000017\n",
      "action 1\n",
      "sap flou = 57.434347248\n",
      "penality =  30.266261100799998\n",
      "temperature=  28.63\n",
      "sol humidute = -3.1700000000000017\n",
      "sap flou = 58.434347248\n",
      "penality =  30.266261100799998\n",
      "reward =  4.733738899200002\n",
      "new_state_space 1\n",
      "[[17.9146648   8.37726207 18.78539197]\n",
      " [ 2.79523774  3.2678862   4.50741926]\n",
      " [ 0.          0.          0.        ]]\n",
      "sol humidute = -3.1700000000000017\n",
      "action 1\n",
      "sap flou = 58.434347248\n",
      "penality =  30.166261100799996\n",
      "temperature=  28.63\n",
      "sol humidute = -4.170000000000002\n",
      "sap flou = 59.434347248\n",
      "penality =  30.166261100799996\n",
      "reward =  4.833738899200004\n",
      "new_state_space 1\n",
      "[[17.9146648   8.37726207 18.78539197]\n",
      " [ 2.79523774  3.87070597  4.50741926]\n",
      " [ 0.          0.          0.        ]]\n",
      "sol humidute = -4.170000000000002\n",
      "action 1\n",
      "sap flou = 59.434347248\n",
      "penality =  30.0662611008\n",
      "temperature=  28.63\n",
      "sol humidute = -5.170000000000002\n",
      "sap flou = 60.434347248\n",
      "penality =  30.0662611008\n",
      "reward =  4.9337388992000015\n",
      "new_state_space 1\n",
      "[[17.9146648   8.37726207 18.78539197]\n",
      " [ 2.79523774  4.42324377  4.50741926]\n",
      " [ 0.          0.          0.        ]]\n",
      "sol humidute = -5.170000000000002\n",
      "action 0\n",
      "sap flou = 60.434347248\n",
      "penality =  29.966261100799993\n",
      "temperature=  28.63\n",
      "sol humidute = -5.170000000000002\n",
      "sap flou = 60.434347248\n",
      "penality =  29.966261100799993\n",
      "reward =  5.0337388992000065\n",
      "new_state_space 1\n",
      "[[17.9146648   8.37726207 18.78539197]\n",
      " [ 3.46532237  4.42324377  4.50741926]\n",
      " [ 0.          0.          0.        ]]\n",
      "sol humidute = -5.170000000000002\n",
      "action 0\n",
      "sap flou = 60.434347248\n",
      "penality =  29.966261100799993\n",
      "temperature=  28.63\n",
      "sol humidute = -5.170000000000002\n",
      "sap flou = 60.434347248\n",
      "penality =  29.966261100799993\n",
      "reward =  5.0337388992000065\n",
      "new_state_space 1\n",
      "[[17.9146648   8.37726207 18.78539197]\n",
      " [ 4.06839853  4.42324377  4.50741926]\n",
      " [ 0.          0.          0.        ]]\n",
      "sol humidute = -5.170000000000002\n",
      "action 1\n",
      "sap flou = 60.434347248\n",
      "penality =  29.966261100799993\n",
      "temperature=  28.63\n",
      "sol humidute = -6.170000000000002\n",
      "sap flou = 61.434347248\n",
      "penality =  29.966261100799993\n",
      "reward =  5.0337388992000065\n",
      "new_state_space 1\n",
      "[[17.9146648   8.37726207 18.78539197]\n",
      " [ 4.06839853  4.93052779  4.50741926]\n",
      " [ 0.          0.          0.        ]]\n",
      "sol humidute = -6.170000000000002\n",
      "action 2\n",
      "sap flou = 61.434347248\n",
      "penality =  29.866261100799996\n",
      "temperature=  28.63\n",
      "sol humidute = -8.170000000000002\n",
      "sap flou = 63.434347248\n",
      "penality =  29.866261100799996\n",
      "reward =  5.133738899200004\n",
      "new_state_space 1\n",
      "[[17.9146648   8.37726207 18.78539197]\n",
      " [ 4.06839853  4.93052779  5.05817347]\n",
      " [ 0.          0.          0.        ]]\n",
      "sol humidute = -8.170000000000002\n",
      "action 2\n",
      "sap flou = 63.434347248\n",
      "penality =  29.666261100799996\n",
      "temperature=  28.63\n",
      "sol humidute = -10.170000000000002\n",
      "sap flou = 65.434347248\n",
      "penality =  29.666261100799996\n",
      "reward =  5.333738899200004\n",
      "new_state_space 1\n",
      "[[17.9146648   8.37726207 18.78539197]\n",
      " [ 4.06839853  4.93052779  5.58648919]\n",
      " [ 0.          0.          0.        ]]\n",
      "sol humidute = -10.170000000000002\n",
      "action 2\n",
      "sap flou = 65.434347248\n",
      "penality =  29.466261100799997\n",
      "temperature=  28.63\n",
      "sol humidute = -12.170000000000002\n",
      "sap flou = 67.434347248\n",
      "penality =  29.466261100799997\n",
      "reward =  5.533738899200003\n",
      "new_state_space 1\n",
      "[[17.9146648   8.37726207 18.78539197]\n",
      " [ 4.06839853  4.93052779  6.13427659]\n",
      " [ 0.          0.          0.        ]]\n",
      "sol humidute = -12.170000000000002\n"
     ]
    }
   ],
   "source": [
    "for n_episodes in range(1, n_episodes+1):\n",
    "    state_space = env.reset(df.iloc[n_episodes].Temperature,df.iloc[n_episodes].Humidity_ID,df.iloc[n_episodes].Sap_Flux)\n",
    "    done = False\n",
    "    score = 0 \n",
    "    print(\"numereo d'episodes\",n_episodes )\n",
    "    while not done:\n",
    "        if np.random.uniform(0,1) < exploration_proba:\n",
    "            action = env.action_space.sample()\n",
    "        else:\n",
    "            action = np.argmax(Q_table[ state_space,:])\n",
    "        #env.render()\n",
    "        # The environment runs the chosen action and returns\n",
    "        # the next state, a reward and true if the epiosed is ended.\n",
    "        action = env.action_space.sample()\n",
    "        print(\"action\",action)\n",
    "        new_state_space, reward, done, info = env.step(action)\n",
    "        \n",
    "        print(\"new_state_space\",new_state_space)\n",
    "        # We update our Q-table using the Q-learning iteration\n",
    "        Q_table[ new_state_space,action] = (1-lr) * Q_table[ new_state_space, action] +lr*(reward + gamma*max(Q_table[ new_state_space,:]))\n",
    "        print(Q_table)\n",
    "        print(\"sol humidute =\",env.sol_humidite)\n",
    "        score+=reward\n",
    "    # print('Episode:{} Score:{}'.format(episode, score))"
   ]
  },
  {
   "cell_type": "markdown",
   "metadata": {
    "id": "R-2wSEd0Sq7L"
   },
   "source": [
    "# **Save model**"
   ]
  },
  {
   "cell_type": "code",
   "execution_count": null,
   "metadata": {
    "id": "FgZMxDcXS2BC"
   },
   "outputs": [],
   "source": []
  }
 ],
 "metadata": {
  "colab": {
   "collapsed_sections": [
    "uuSa4lVjafvn"
   ],
   "name": "oussema.ipynb",
   "provenance": []
  },
  "kernelspec": {
   "display_name": "Python 3 (ipykernel)",
   "language": "python",
   "name": "python3"
  },
  "language_info": {
   "codemirror_mode": {
    "name": "ipython",
    "version": 3
   },
   "file_extension": ".py",
   "mimetype": "text/x-python",
   "name": "python",
   "nbconvert_exporter": "python",
   "pygments_lexer": "ipython3",
   "version": "3.9.7"
  },
  "vscode": {
   "interpreter": {
    "hash": "26de051ba29f2982a8de78e945f0abaf191376122a1563185a90213a26c5da77"
   }
  }
 },
 "nbformat": 4,
 "nbformat_minor": 1
}
